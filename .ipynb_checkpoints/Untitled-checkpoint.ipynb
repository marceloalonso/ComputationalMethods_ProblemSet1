{
 "cells": [
  {
   "cell_type": "code",
   "execution_count": null,
   "id": "208f0d04-4d62-4af4-90b1-cb9136206d71",
   "metadata": {},
   "outputs": [],
   "source": []
  }
 ],
 "metadata": {
  "kernelspec": {
   "display_name": "",
   "name": ""
  },
  "language_info": {
   "name": ""
  }
 },
 "nbformat": 4,
 "nbformat_minor": 5
}
